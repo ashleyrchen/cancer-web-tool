{
 "cells": [
  {
   "cell_type": "code",
   "execution_count": 18,
   "metadata": {},
   "outputs": [],
   "source": [
    "import csv\n",
    "import pandas as pd\n",
    "pd.set_option('display.max_columns', 500)\n",
    "\n",
    "import re\n",
    "from typing import List, Any, Union\n",
    "\n",
    "%matplotlib inline\n",
    "import matplotlib\n",
    "import numpy as np\n",
    "import matplotlib.pyplot as plt"
   ]
  },
  {
   "cell_type": "code",
   "execution_count": 19,
   "metadata": {},
   "outputs": [],
   "source": [
    "hgnc_title_list: List[str] = ['HGNC ID', 'Approved Name', 'Status',\n",
    "                   'Previous Symbols', 'Synonyms', 'Chromosone', 'Accession Numbers',\n",
    "                   'RefSeq IDs', 'OMIM ID', 'Ensembl ID', 'UCSC ID']\n",
    "cosmic_title_list = ['Gene name', 'Accession Number', 'Gene', 'CDS length', 'HGNC ID',\n",
    "                     'Sample name', 'ID_sample', 'ID_tumour', 'Primary site',\n",
    "                     'Site subtype 1', 'Site subtype 2', 'Site subtype 3',\n",
    "                     'Primary histology', 'Histology subtype 1',\n",
    "                     'Histology subtype 2', 'Histology subtype 3',\n",
    "                     'Genome-wide screen', 'Mutation ID', 'Mutation CDS', 'Mutation',\n",
    "                     'AA Mutation Description', 'Mutation zygosity', 'LOH', 'GRCh',\n",
    "                     'Mutation genome position', 'Mutation strand SNP', 'Resistance',\n",
    "                     'Mutation', 'FATHMM prediction', 'FATHMM score',\n",
    "                     'Mutation somatic status', 'Pubmed_PMID', 'ID_STUDY',\n",
    "                     'Sample Type', 'Tumour']\n",
    "\n",
    "hgnc_location = 'hgnc.txt'\n",
    "cosmic_location = 'CosmicMutantExport.tsv'"
   ]
  },
  {
   "cell_type": "code",
   "execution_count": 20,
   "metadata": {},
   "outputs": [],
   "source": [
    "def get_df(file_location):\n",
    "    return pd.read_csv(file_location, sep='\\t', low_memory=False)\n",
    "\n",
    "def aggregate(df, col_name):\n",
    "    return df.groupby(col_name).agg(lambda x: list(x))\n"
   ]
  },
  {
   "cell_type": "code",
   "execution_count": 21,
   "metadata": {},
   "outputs": [],
   "source": [
    "cosmic_df = get_df(cosmic_location)\n",
    "cosmic_df.to_pickle('cosmic_pkl')"
   ]
  },
  {
   "cell_type": "code",
   "execution_count": 22,
   "metadata": {},
   "outputs": [],
   "source": [
    "# temp_df = cosmic_df[:50]\n",
    "# temp_df.to_pickle('temp_pkl')\n",
    "\n",
    "temp_df = cosmic_df "
   ]
  },
  {
   "cell_type": "code",
   "execution_count": 23,
   "metadata": {},
   "outputs": [],
   "source": [
    "gene_df = aggregate(temp_df, 'Gene name')\n",
    "gene_df.to_pickle('gene_pkl')"
   ]
  },
  {
   "cell_type": "code",
   "execution_count": 24,
   "metadata": {},
   "outputs": [],
   "source": [
    "mutation_aa = aggregate(cosmic_df, 'Mutation AA')\n",
    "mutation_aa.to_pickle('mutation_aa_pkl')"
   ]
  },
  {
   "cell_type": "code",
   "execution_count": 25,
   "metadata": {},
   "outputs": [],
   "source": [
    "mutation_cds = aggregate(cosmic_df, 'Mutation CDS')\n",
    "mutation_cds.to_pickle('mutation_cds_pkl')"
   ]
  },
  {
   "cell_type": "code",
   "execution_count": 27,
   "metadata": {},
   "outputs": [],
   "source": [
    "hgnc_df = aggregate(get_df(hgnc_location), 'HGNC ID') \n",
    "hgnc_df.reset_index(level=0, inplace=True, drop=False)\n",
    "hgnc_df.to_pickle('hgnc_pkl')"
   ]
  },
  {
   "cell_type": "code",
   "execution_count": null,
   "metadata": {},
   "outputs": [],
   "source": []
  }
 ],
 "metadata": {
  "kernelspec": {
   "display_name": "Python 3",
   "language": "python",
   "name": "python3"
  },
  "language_info": {
   "codemirror_mode": {
    "name": "ipython",
    "version": 3
   },
   "file_extension": ".py",
   "mimetype": "text/x-python",
   "name": "python",
   "nbconvert_exporter": "python",
   "pygments_lexer": "ipython3",
   "version": "3.6.4"
  }
 },
 "nbformat": 4,
 "nbformat_minor": 2
}
