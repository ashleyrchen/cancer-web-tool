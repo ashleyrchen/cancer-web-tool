{
 "cells": [
  {
   "cell_type": "code",
   "execution_count": 1,
   "metadata": {},
   "outputs": [],
   "source": [
    "import csv\n",
    "import pandas as pd\n",
    "pd.set_option('display.max_columns', 500)\n",
    "\n",
    "import re\n",
    "from typing import List, Any, Union\n",
    "\n",
    "%matplotlib inline\n",
    "import matplotlib\n",
    "import numpy as np\n",
    "import matplotlib.pyplot as plt"
   ]
  },
  {
   "cell_type": "code",
   "execution_count": 2,
   "metadata": {},
   "outputs": [],
   "source": [
    "hgnc_title_list: List[str] = ['HGNC ID', 'Approved Name', 'Status',\n",
    "                   'Previous Symbols', 'Synonyms', 'Chromosone', 'Accession Numbers',\n",
    "                   'RefSeq IDs', 'OMIM ID', 'Ensembl ID', 'UCSC ID']\n",
    "cosmic_title_list = ['Gene name', 'Accession Number', 'Gene', 'CDS length', 'HGNC ID',\n",
    "                     'Sample name', 'ID_sample', 'ID_tumour', 'Primary site',\n",
    "                     'Site subtype 1', 'Site subtype 2', 'Site subtype 3',\n",
    "                     'Primary histology', 'Histology subtype 1',\n",
    "                     'Histology subtype 2', 'Histology subtype 3',\n",
    "                     'Genome-wide screen', 'Mutation ID', 'Mutation CDS', 'Mutation',\n",
    "                     'AA Mutation Description', 'Mutation zygosity', 'LOH', 'GRCh',\n",
    "                     'Mutation genome position', 'Mutation strand SNP', 'Resistance',\n",
    "                     'Mutation', 'FATHMM prediction', 'FATHMM score',\n",
    "                     'Mutation somatic status', 'Pubmed_PMID', 'ID_STUDY',\n",
    "                     'Sample Type', 'Tumour']"
   ]
  },
  {
   "cell_type": "code",
   "execution_count": 3,
   "metadata": {},
   "outputs": [],
   "source": [
    "# cosmic_df = pd.read_pickle('cosmic_pkl')\n",
    "# cosmic_df.head()"
   ]
  },
  {
   "cell_type": "code",
   "execution_count": 4,
   "metadata": {},
   "outputs": [
    {
     "name": "stdout",
     "output_type": "stream",
     "text": [
      "CPU times: user 49.5 s, sys: 39.3 s, total: 1min 28s\n",
      "Wall time: 1min 43s\n"
     ]
    }
   ],
   "source": [
    "%%time\n",
    "mutation_aa = pd.read_pickle('mutation_aa_pkl')"
   ]
  },
  {
   "cell_type": "code",
   "execution_count": 5,
   "metadata": {},
   "outputs": [
    {
     "data": {
      "text/html": [
       "<div>\n",
       "<style scoped>\n",
       "    .dataframe tbody tr th:only-of-type {\n",
       "        vertical-align: middle;\n",
       "    }\n",
       "\n",
       "    .dataframe tbody tr th {\n",
       "        vertical-align: top;\n",
       "    }\n",
       "\n",
       "    .dataframe thead th {\n",
       "        text-align: right;\n",
       "    }\n",
       "</style>\n",
       "<table border=\"1\" class=\"dataframe\">\n",
       "  <thead>\n",
       "    <tr style=\"text-align: right;\">\n",
       "      <th></th>\n",
       "      <th>Gene name</th>\n",
       "      <th>Accession Number</th>\n",
       "      <th>Gene CDS length</th>\n",
       "      <th>HGNC ID</th>\n",
       "      <th>Sample name</th>\n",
       "      <th>ID_sample</th>\n",
       "      <th>ID_tumour</th>\n",
       "      <th>Primary site</th>\n",
       "      <th>Site subtype 1</th>\n",
       "      <th>Site subtype 2</th>\n",
       "      <th>Site subtype 3</th>\n",
       "      <th>Primary histology</th>\n",
       "      <th>Histology subtype 1</th>\n",
       "      <th>Histology subtype 2</th>\n",
       "      <th>Histology subtype 3</th>\n",
       "      <th>Genome-wide screen</th>\n",
       "      <th>Mutation ID</th>\n",
       "      <th>Mutation CDS</th>\n",
       "      <th>Mutation Description</th>\n",
       "      <th>Mutation zygosity</th>\n",
       "      <th>LOH</th>\n",
       "      <th>GRCh</th>\n",
       "      <th>Mutation genome position</th>\n",
       "      <th>Mutation strand</th>\n",
       "      <th>SNP</th>\n",
       "      <th>Resistance Mutation</th>\n",
       "      <th>FATHMM prediction</th>\n",
       "      <th>FATHMM score</th>\n",
       "      <th>Mutation somatic status</th>\n",
       "      <th>Pubmed_PMID</th>\n",
       "      <th>ID_STUDY</th>\n",
       "      <th>Sample Type</th>\n",
       "      <th>Tumour origin</th>\n",
       "      <th>Age</th>\n",
       "    </tr>\n",
       "    <tr>\n",
       "      <th>Mutation AA</th>\n",
       "      <th></th>\n",
       "      <th></th>\n",
       "      <th></th>\n",
       "      <th></th>\n",
       "      <th></th>\n",
       "      <th></th>\n",
       "      <th></th>\n",
       "      <th></th>\n",
       "      <th></th>\n",
       "      <th></th>\n",
       "      <th></th>\n",
       "      <th></th>\n",
       "      <th></th>\n",
       "      <th></th>\n",
       "      <th></th>\n",
       "      <th></th>\n",
       "      <th></th>\n",
       "      <th></th>\n",
       "      <th></th>\n",
       "      <th></th>\n",
       "      <th></th>\n",
       "      <th></th>\n",
       "      <th></th>\n",
       "      <th></th>\n",
       "      <th></th>\n",
       "      <th></th>\n",
       "      <th></th>\n",
       "      <th></th>\n",
       "      <th></th>\n",
       "      <th></th>\n",
       "      <th></th>\n",
       "      <th></th>\n",
       "      <th></th>\n",
       "      <th></th>\n",
       "    </tr>\n",
       "  </thead>\n",
       "  <tbody>\n",
       "    <tr>\n",
       "      <th>p.</th>\n",
       "      <td>[ATG2A]</td>\n",
       "      <td>[ENST00000377264]</td>\n",
       "      <td>[5817]</td>\n",
       "      <td>[29028]</td>\n",
       "      <td>[TCGA-04-1342-01]</td>\n",
       "      <td>[1475018]</td>\n",
       "      <td>[1398717]</td>\n",
       "      <td>[ovary]</td>\n",
       "      <td>[NS]</td>\n",
       "      <td>[NS]</td>\n",
       "      <td>[NS]</td>\n",
       "      <td>[carcinoma]</td>\n",
       "      <td>[serous_carcinoma]</td>\n",
       "      <td>[NS]</td>\n",
       "      <td>[NS]</td>\n",
       "      <td>[y]</td>\n",
       "      <td>[COSM133562]</td>\n",
       "      <td>[c.2433_2435CAG&gt;TGA]</td>\n",
       "      <td>[Substitution - coding silent]</td>\n",
       "      <td>[nan]</td>\n",
       "      <td>[u]</td>\n",
       "      <td>[38.0]</td>\n",
       "      <td>[11:64907820-64907822]</td>\n",
       "      <td>[-]</td>\n",
       "      <td>[nan]</td>\n",
       "      <td>[-]</td>\n",
       "      <td>[nan]</td>\n",
       "      <td>[nan]</td>\n",
       "      <td>[Confirmed somatic variant]</td>\n",
       "      <td>[21720365.0]</td>\n",
       "      <td>[331.0]</td>\n",
       "      <td>[NS]</td>\n",
       "      <td>[primary]</td>\n",
       "      <td>[80.0]</td>\n",
       "    </tr>\n",
       "    <tr>\n",
       "      <th>p.(1408_1410)ins(6)</th>\n",
       "      <td>[EP300]</td>\n",
       "      <td>[ENST00000263253]</td>\n",
       "      <td>[7245]</td>\n",
       "      <td>[3373]</td>\n",
       "      <td>[BrCa8]</td>\n",
       "      <td>[1523929]</td>\n",
       "      <td>[1446300]</td>\n",
       "      <td>[breast]</td>\n",
       "      <td>[NS]</td>\n",
       "      <td>[NS]</td>\n",
       "      <td>[NS]</td>\n",
       "      <td>[carcinoma]</td>\n",
       "      <td>[NS]</td>\n",
       "      <td>[NS]</td>\n",
       "      <td>[NS]</td>\n",
       "      <td>[n]</td>\n",
       "      <td>[COSM96435]</td>\n",
       "      <td>[c.(4024_4026)ins(18)]</td>\n",
       "      <td>[Insertion - In frame]</td>\n",
       "      <td>[nan]</td>\n",
       "      <td>[u]</td>\n",
       "      <td>[nan]</td>\n",
       "      <td>[nan]</td>\n",
       "      <td>[nan]</td>\n",
       "      <td>[nan]</td>\n",
       "      <td>[-]</td>\n",
       "      <td>[nan]</td>\n",
       "      <td>[nan]</td>\n",
       "      <td>[Confirmed somatic variant]</td>\n",
       "      <td>[10700188.0]</td>\n",
       "      <td>[nan]</td>\n",
       "      <td>[surgery fresh/frozen]</td>\n",
       "      <td>[primary]</td>\n",
       "      <td>[nan]</td>\n",
       "    </tr>\n",
       "    <tr>\n",
       "      <th>p.(1_359)ins(4)</th>\n",
       "      <td>[CEBPA]</td>\n",
       "      <td>[ENST00000498907]</td>\n",
       "      <td>[1077]</td>\n",
       "      <td>[1833]</td>\n",
       "      <td>[1209890]</td>\n",
       "      <td>[1209890]</td>\n",
       "      <td>[1121767]</td>\n",
       "      <td>[haematopoietic_and_lymphoid_tissue]</td>\n",
       "      <td>[NS]</td>\n",
       "      <td>[NS]</td>\n",
       "      <td>[NS]</td>\n",
       "      <td>[haematopoietic_neoplasm]</td>\n",
       "      <td>[acute_myeloid_leukaemia]</td>\n",
       "      <td>[NS]</td>\n",
       "      <td>[NS]</td>\n",
       "      <td>[n]</td>\n",
       "      <td>[COSM34087]</td>\n",
       "      <td>[c.(1_1077)ins(12)]</td>\n",
       "      <td>[Insertion - In frame]</td>\n",
       "      <td>[nan]</td>\n",
       "      <td>[u]</td>\n",
       "      <td>[nan]</td>\n",
       "      <td>[nan]</td>\n",
       "      <td>[nan]</td>\n",
       "      <td>[nan]</td>\n",
       "      <td>[-]</td>\n",
       "      <td>[nan]</td>\n",
       "      <td>[nan]</td>\n",
       "      <td>[Variant of unknown origin]</td>\n",
       "      <td>[18616509.0]</td>\n",
       "      <td>[nan]</td>\n",
       "      <td>[blood-bone marrow]</td>\n",
       "      <td>[NS]</td>\n",
       "      <td>[nan]</td>\n",
       "    </tr>\n",
       "    <tr>\n",
       "      <th>p.(200_201)ins?</th>\n",
       "      <td>[TP53]</td>\n",
       "      <td>[ENST00000269305]</td>\n",
       "      <td>[1182]</td>\n",
       "      <td>[11998]</td>\n",
       "      <td>[PT297]</td>\n",
       "      <td>[1600617]</td>\n",
       "      <td>[1520534]</td>\n",
       "      <td>[lung]</td>\n",
       "      <td>[NS]</td>\n",
       "      <td>[NS]</td>\n",
       "      <td>[NS]</td>\n",
       "      <td>[carcinoma]</td>\n",
       "      <td>[non_small_cell_carcinoma]</td>\n",
       "      <td>[NS]</td>\n",
       "      <td>[NS]</td>\n",
       "      <td>[n]</td>\n",
       "      <td>[COSM133662]</td>\n",
       "      <td>[c.?]</td>\n",
       "      <td>[Insertion - In frame]</td>\n",
       "      <td>[nan]</td>\n",
       "      <td>[u]</td>\n",
       "      <td>[nan]</td>\n",
       "      <td>[nan]</td>\n",
       "      <td>[nan]</td>\n",
       "      <td>[nan]</td>\n",
       "      <td>[-]</td>\n",
       "      <td>[nan]</td>\n",
       "      <td>[nan]</td>\n",
       "      <td>[Variant of unknown origin]</td>\n",
       "      <td>[22089114.0]</td>\n",
       "      <td>[nan]</td>\n",
       "      <td>[surgery fresh/frozen]</td>\n",
       "      <td>[NS]</td>\n",
       "      <td>[nan]</td>\n",
       "    </tr>\n",
       "    <tr>\n",
       "      <th>p.(2287)fs</th>\n",
       "      <td>[ARID1A]</td>\n",
       "      <td>[ENST00000324856]</td>\n",
       "      <td>[6858]</td>\n",
       "      <td>[11110]</td>\n",
       "      <td>[1761993]</td>\n",
       "      <td>[1761993]</td>\n",
       "      <td>[1666511]</td>\n",
       "      <td>[haematopoietic_and_lymphoid_tissue]</td>\n",
       "      <td>[NS]</td>\n",
       "      <td>[NS]</td>\n",
       "      <td>[NS]</td>\n",
       "      <td>[lymphoid_neoplasm]</td>\n",
       "      <td>[lymphoplasmacytic_lymphoma]</td>\n",
       "      <td>[NS]</td>\n",
       "      <td>[NS]</td>\n",
       "      <td>[n]</td>\n",
       "      <td>[COSM328014]</td>\n",
       "      <td>[c.6746_6747ins?]</td>\n",
       "      <td>[Insertion - Frameshift]</td>\n",
       "      <td>[nan]</td>\n",
       "      <td>[u]</td>\n",
       "      <td>[38.0]</td>\n",
       "      <td>[1:26780644-26780645]</td>\n",
       "      <td>[+]</td>\n",
       "      <td>[nan]</td>\n",
       "      <td>[-]</td>\n",
       "      <td>[nan]</td>\n",
       "      <td>[nan]</td>\n",
       "      <td>[Confirmed somatic variant]</td>\n",
       "      <td>[22931316.0]</td>\n",
       "      <td>[nan]</td>\n",
       "      <td>[blood-bone marrow]</td>\n",
       "      <td>[NS]</td>\n",
       "      <td>[nan]</td>\n",
       "    </tr>\n",
       "  </tbody>\n",
       "</table>\n",
       "</div>"
      ],
      "text/plain": [
       "                    Gene name   Accession Number Gene CDS length  HGNC ID  \\\n",
       "Mutation AA                                                                 \n",
       "p.                    [ATG2A]  [ENST00000377264]          [5817]  [29028]   \n",
       "p.(1408_1410)ins(6)   [EP300]  [ENST00000263253]          [7245]   [3373]   \n",
       "p.(1_359)ins(4)       [CEBPA]  [ENST00000498907]          [1077]   [1833]   \n",
       "p.(200_201)ins?        [TP53]  [ENST00000269305]          [1182]  [11998]   \n",
       "p.(2287)fs           [ARID1A]  [ENST00000324856]          [6858]  [11110]   \n",
       "\n",
       "                           Sample name  ID_sample  ID_tumour  \\\n",
       "Mutation AA                                                    \n",
       "p.                   [TCGA-04-1342-01]  [1475018]  [1398717]   \n",
       "p.(1408_1410)ins(6)            [BrCa8]  [1523929]  [1446300]   \n",
       "p.(1_359)ins(4)              [1209890]  [1209890]  [1121767]   \n",
       "p.(200_201)ins?                [PT297]  [1600617]  [1520534]   \n",
       "p.(2287)fs                   [1761993]  [1761993]  [1666511]   \n",
       "\n",
       "                                             Primary site Site subtype 1  \\\n",
       "Mutation AA                                                                \n",
       "p.                                                [ovary]           [NS]   \n",
       "p.(1408_1410)ins(6)                              [breast]           [NS]   \n",
       "p.(1_359)ins(4)      [haematopoietic_and_lymphoid_tissue]           [NS]   \n",
       "p.(200_201)ins?                                    [lung]           [NS]   \n",
       "p.(2287)fs           [haematopoietic_and_lymphoid_tissue]           [NS]   \n",
       "\n",
       "                    Site subtype 2 Site subtype 3          Primary histology  \\\n",
       "Mutation AA                                                                    \n",
       "p.                            [NS]           [NS]                [carcinoma]   \n",
       "p.(1408_1410)ins(6)           [NS]           [NS]                [carcinoma]   \n",
       "p.(1_359)ins(4)               [NS]           [NS]  [haematopoietic_neoplasm]   \n",
       "p.(200_201)ins?               [NS]           [NS]                [carcinoma]   \n",
       "p.(2287)fs                    [NS]           [NS]        [lymphoid_neoplasm]   \n",
       "\n",
       "                              Histology subtype 1 Histology subtype 2  \\\n",
       "Mutation AA                                                             \n",
       "p.                             [serous_carcinoma]                [NS]   \n",
       "p.(1408_1410)ins(6)                          [NS]                [NS]   \n",
       "p.(1_359)ins(4)         [acute_myeloid_leukaemia]                [NS]   \n",
       "p.(200_201)ins?        [non_small_cell_carcinoma]                [NS]   \n",
       "p.(2287)fs           [lymphoplasmacytic_lymphoma]                [NS]   \n",
       "\n",
       "                    Histology subtype 3 Genome-wide screen   Mutation ID  \\\n",
       "Mutation AA                                                                \n",
       "p.                                 [NS]                [y]  [COSM133562]   \n",
       "p.(1408_1410)ins(6)                [NS]                [n]   [COSM96435]   \n",
       "p.(1_359)ins(4)                    [NS]                [n]   [COSM34087]   \n",
       "p.(200_201)ins?                    [NS]                [n]  [COSM133662]   \n",
       "p.(2287)fs                         [NS]                [n]  [COSM328014]   \n",
       "\n",
       "                               Mutation CDS            Mutation Description  \\\n",
       "Mutation AA                                                                   \n",
       "p.                     [c.2433_2435CAG>TGA]  [Substitution - coding silent]   \n",
       "p.(1408_1410)ins(6)  [c.(4024_4026)ins(18)]          [Insertion - In frame]   \n",
       "p.(1_359)ins(4)         [c.(1_1077)ins(12)]          [Insertion - In frame]   \n",
       "p.(200_201)ins?                       [c.?]          [Insertion - In frame]   \n",
       "p.(2287)fs                [c.6746_6747ins?]        [Insertion - Frameshift]   \n",
       "\n",
       "                    Mutation zygosity  LOH    GRCh Mutation genome position  \\\n",
       "Mutation AA                                                                   \n",
       "p.                              [nan]  [u]  [38.0]   [11:64907820-64907822]   \n",
       "p.(1408_1410)ins(6)             [nan]  [u]   [nan]                    [nan]   \n",
       "p.(1_359)ins(4)                 [nan]  [u]   [nan]                    [nan]   \n",
       "p.(200_201)ins?                 [nan]  [u]   [nan]                    [nan]   \n",
       "p.(2287)fs                      [nan]  [u]  [38.0]    [1:26780644-26780645]   \n",
       "\n",
       "                    Mutation strand    SNP Resistance Mutation  \\\n",
       "Mutation AA                                                      \n",
       "p.                              [-]  [nan]                 [-]   \n",
       "p.(1408_1410)ins(6)           [nan]  [nan]                 [-]   \n",
       "p.(1_359)ins(4)               [nan]  [nan]                 [-]   \n",
       "p.(200_201)ins?               [nan]  [nan]                 [-]   \n",
       "p.(2287)fs                      [+]  [nan]                 [-]   \n",
       "\n",
       "                    FATHMM prediction FATHMM score  \\\n",
       "Mutation AA                                          \n",
       "p.                              [nan]        [nan]   \n",
       "p.(1408_1410)ins(6)             [nan]        [nan]   \n",
       "p.(1_359)ins(4)                 [nan]        [nan]   \n",
       "p.(200_201)ins?                 [nan]        [nan]   \n",
       "p.(2287)fs                      [nan]        [nan]   \n",
       "\n",
       "                         Mutation somatic status   Pubmed_PMID ID_STUDY  \\\n",
       "Mutation AA                                                               \n",
       "p.                   [Confirmed somatic variant]  [21720365.0]  [331.0]   \n",
       "p.(1408_1410)ins(6)  [Confirmed somatic variant]  [10700188.0]    [nan]   \n",
       "p.(1_359)ins(4)      [Variant of unknown origin]  [18616509.0]    [nan]   \n",
       "p.(200_201)ins?      [Variant of unknown origin]  [22089114.0]    [nan]   \n",
       "p.(2287)fs           [Confirmed somatic variant]  [22931316.0]    [nan]   \n",
       "\n",
       "                                Sample Type Tumour origin     Age  \n",
       "Mutation AA                                                        \n",
       "p.                                     [NS]     [primary]  [80.0]  \n",
       "p.(1408_1410)ins(6)  [surgery fresh/frozen]     [primary]   [nan]  \n",
       "p.(1_359)ins(4)         [blood-bone marrow]          [NS]   [nan]  \n",
       "p.(200_201)ins?      [surgery fresh/frozen]          [NS]   [nan]  \n",
       "p.(2287)fs              [blood-bone marrow]          [NS]   [nan]  "
      ]
     },
     "execution_count": 5,
     "metadata": {},
     "output_type": "execute_result"
    }
   ],
   "source": [
    "mutation_aa.head()"
   ]
  },
  {
   "cell_type": "code",
   "execution_count": 6,
   "metadata": {},
   "outputs": [
    {
     "name": "stdout",
     "output_type": "stream",
     "text": [
      "CPU times: user 41.2 s, sys: 1min 16s, total: 1min 57s\n",
      "Wall time: 2min 43s\n"
     ]
    }
   ],
   "source": [
    "%%time\n",
    "mutation_cds = pd.read_pickle('mutation_cds_pkl')\n",
    "# mutation_cds.head()"
   ]
  },
  {
   "cell_type": "code",
   "execution_count": 7,
   "metadata": {},
   "outputs": [
    {
     "name": "stdout",
     "output_type": "stream",
     "text": [
      "CPU times: user 14.7 s, sys: 5.59 s, total: 20.2 s\n",
      "Wall time: 27.7 s\n"
     ]
    }
   ],
   "source": [
    "%%time\n",
    "gene_df = pd.read_pickle('gene_pkl')\n",
    "# gene_df.head()"
   ]
  },
  {
   "cell_type": "code",
   "execution_count": 8,
   "metadata": {},
   "outputs": [
    {
     "name": "stdout",
     "output_type": "stream",
     "text": [
      "CPU times: user 234 ms, sys: 90.2 ms, total: 324 ms\n",
      "Wall time: 596 ms\n"
     ]
    }
   ],
   "source": [
    "%%time\n",
    "hgnc_df = pd.read_pickle('hgnc_pkl')\n",
    "# hgnc_df.head()"
   ]
  },
  {
   "cell_type": "code",
   "execution_count": 9,
   "metadata": {},
   "outputs": [],
   "source": [
    "def is_query_valid(query):\n",
    "    cds = None \n",
    "    aa = None \n",
    "    lst = query.split()\n",
    "    gene_name = lst[0]\n",
    "    if gene_name not in gene_df.index:\n",
    "        print('Please enter a valid gene name')\n",
    "    \n",
    "    for element in lst[1:]:\n",
    "        if element[:2] == 'c.':\n",
    "            cds = element \n",
    "        elif element[:2] == 'p.':\n",
    "            aa = element \n",
    "   \n",
    "    if cds is not None and cds not in gene_df.loc[gene_name]['Mutation CDS']:\n",
    "        print('CDS sequence does not match')\n",
    "    if aa is not None and aa not in gene_df.loc[gene_name]['Mutation AA']:\n",
    "        print('AA sequence does not match')\n",
    "     \n",
    "    local_df = None\n",
    "    sequence = None\n",
    "    if cds is not None: \n",
    "        local_df = mutation_cds\n",
    "        sequence = cds \n",
    "    elif aa is not None: \n",
    "        local_df = mutation_aa\n",
    "        sequence = aa   \n",
    "        \n",
    "    return gene_name, aa, cds, local_df, sequence"
   ]
  },
  {
   "cell_type": "code",
   "execution_count": 10,
   "metadata": {},
   "outputs": [],
   "source": [
    "def find_frequencies(query : str):\n",
    "    \n",
    "    try:   \n",
    "        gene_name, aa, cds, local_df, sequence = is_query_valid(query)\n",
    "        if aa is None and cds is None:\n",
    "            return 'Please enter in a CDS or AA sequence'\n",
    "        reply = pd.Series(local_df.loc[sequence, 'Primary histology']\n",
    "                         ).value_counts()\n",
    "        print(reply)\n",
    "        # only graphs the ten most commonly seen tumors \n",
    "        reply[:10].plot(kind = 'bar')\n",
    "    except KeyError:\n",
    "        return 'Your CDS or AA sequence ' + sequence + ' was not found'\n",
    "    except ValueError:\n",
    "        return "
   ]
  },
  {
   "cell_type": "markdown",
   "metadata": {},
   "source": [
    "Valid queries:\n",
    "\n",
    "* GeneName c_sequence \n",
    "* GeneName p_sequence\n",
    "* GeneName c_sequence p_sequence\n",
    "* GeneName p_sequence c_sequence\n",
    "\n",
    "Anticipated invalid queries:\n",
    "* GeneName\n",
    "* Any combination of the above, where c_sequence and/or p_sequence do not match gene name"
   ]
  },
  {
   "cell_type": "code",
   "execution_count": 11,
   "metadata": {},
   "outputs": [
    {
     "name": "stdout",
     "output_type": "stream",
     "text": [
      "adenoma    1\n",
      "dtype: int64\n"
     ]
    },
    {
     "data": {
      "image/png": "[encoded data removed]",
      "text/plain": [
       "<matplotlib.figure.Figure at 0x3908c8860>"
      ]
     },
     "metadata": {},
     "output_type": "display_data"
    }
   ],
   "source": [
    "find_frequencies('APC c.1859_1862delTTAC p.Y622fs*7')"
   ]
  },
  {
   "cell_type": "code",
   "execution_count": 12,
   "metadata": {},
   "outputs": [
    {
     "name": "stdout",
     "output_type": "stream",
     "text": [
      "adenoma    1\n",
      "dtype: int64\n"
     ]
    },
    {
     "data": {
      "image/png": "[encoded data removed]",
      "text/plain": [
       "<matplotlib.figure.Figure at 0x38cc64160>"
      ]
     },
     "metadata": {},
     "output_type": "display_data"
    }
   ],
   "source": [
    "find_frequencies('APC p.Y622fs*7 c.1859_1862delTTAC')"
   ]
  },
  {
   "cell_type": "code",
   "execution_count": 13,
   "metadata": {},
   "outputs": [
    {
     "name": "stdout",
     "output_type": "stream",
     "text": [
      "adenoma                         1\n",
      "adrenal_cortical_hyperplasia    1\n",
      "dtype: int64\n"
     ]
    },
    {
     "data": {
      "image/png": "[encoded data removed]",
      "text/plain": [
       "<matplotlib.figure.Figure at 0x38cff6518>"
      ]
     },
     "metadata": {},
     "output_type": "display_data"
    }
   ],
   "source": [
    "find_frequencies('APC p.Y622fs*7')"
   ]
  },
  {
   "cell_type": "code",
   "execution_count": 14,
   "metadata": {},
   "outputs": [
    {
     "name": "stdout",
     "output_type": "stream",
     "text": [
      "adenoma    1\n",
      "dtype: int64\n"
     ]
    },
    {
     "data": {
      "image/png": "[encoded data removed]",
      "text/plain": [
       "<matplotlib.figure.Figure at 0x38cfe6668>"
      ]
     },
     "metadata": {},
     "output_type": "display_data"
    }
   ],
   "source": [
    "find_frequencies('APC c.1859_1862delTTAC')"
   ]
  },
  {
   "cell_type": "code",
   "execution_count": 15,
   "metadata": {},
   "outputs": [
    {
     "name": "stdout",
     "output_type": "stream",
     "text": [
      "Please enter a valid gene name\n"
     ]
    },
    {
     "data": {
      "text/plain": [
       "'Please enter in a CDS or AA sequence'"
      ]
     },
     "execution_count": 15,
     "metadata": {},
     "output_type": "execute_result"
    }
   ],
   "source": [
    "find_frequencies('c.1859_1862delTTAC')"
   ]
  },
  {
   "cell_type": "code",
   "execution_count": 16,
   "metadata": {},
   "outputs": [
    {
     "data": {
      "text/plain": [
       "'Please enter in a CDS or AA sequence'"
      ]
     },
     "execution_count": 16,
     "metadata": {},
     "output_type": "execute_result"
    }
   ],
   "source": [
    "find_frequencies('APC')"
   ]
  },
  {
   "cell_type": "code",
   "execution_count": 17,
   "metadata": {},
   "outputs": [
    {
     "name": "stdout",
     "output_type": "stream",
     "text": [
      "CDS sequence does not match\n",
      "AA sequence does not match\n"
     ]
    },
    {
     "data": {
      "text/plain": [
       "'Your CDS or AA sequence c.XX was not found'"
      ]
     },
     "execution_count": 17,
     "metadata": {},
     "output_type": "execute_result"
    }
   ],
   "source": [
    "find_frequencies('KRAS c.XX p.XX')"
   ]
  },
  {
   "cell_type": "code",
   "execution_count": 18,
   "metadata": {},
   "outputs": [
    {
     "name": "stdout",
     "output_type": "stream",
     "text": [
      "carcinoma                                                     18374\n",
      "malignant_melanoma                                             6080\n",
      "benign_melanocytic_nevus                                        797\n",
      "serrated_polyp                                                  746\n",
      "lymphoid_neoplasm                                               668\n",
      "glioma                                                          283\n",
      "low_malignant_potential_(borderline)_tumour                     186\n",
      "other                                                           176\n",
      "adenoma                                                          89\n",
      "craniopharyngioma                                                89\n",
      "adnexal_tumour                                                   23\n",
      "gastrointestinal_stromal_tumour                                  23\n",
      "adenoma-nodule-goitre                                            16\n",
      "haematopoietic_neoplasm                                          12\n",
      "aberrant_crypt_foci                                              11\n",
      "haemangioma                                                      11\n",
      "germ_cell_tumour                                                 11\n",
      "carcinoid-endocrine_tumour                                        8\n",
      "primitive_neuroectodermal_tumour-medulloblastoma                  5\n",
      "desmoid_tumour-fibromatosis                                       5\n",
      "lentigo                                                           5\n",
      "chronic_thyroiditis                                               4\n",
      "myopericytoma                                                     3\n",
      "rhabdomyosarcoma                                                  3\n",
      "Ewings_sarcoma-peripheral_primitive_neuroectodermal_tumour        3\n",
      "neuroblastoma                                                     3\n",
      "glomus_tumour                                                     3\n",
      "adrenal_cortical_carcinoma                                        2\n",
      "malignant_fibrous_histiocytoma-pleomorphic_sarcoma                2\n",
      "pheochromocytoma                                                  1\n",
      "adrenal_cortical_adenoma                                          1\n",
      "leiomyosarcoma                                                    1\n",
      "liposarcoma                                                       1\n",
      "atypical_teratoid-rhabdoid_tumour                                 1\n",
      "synovial_sarcoma                                                  1\n",
      "malignant_melanoma_of_soft_parts-clear_cell_sarcoma               1\n",
      "giant_cell_tumour_of_tendon_sheath                                1\n",
      "Kaposi_sarcoma                                                    1\n",
      "dtype: int64\n"
     ]
    },
    {
     "data": {
      "image/png": "[encoded data removed]",
      "text/plain": [
       "<matplotlib.figure.Figure at 0x38cc64f60>"
      ]
     },
     "metadata": {},
     "output_type": "display_data"
    }
   ],
   "source": [
    "find_frequencies('BRAF c.1799T>A')"
   ]
  },
  {
   "cell_type": "code",
   "execution_count": 19,
   "metadata": {},
   "outputs": [
    {
     "name": "stdout",
     "output_type": "stream",
     "text": [
      "carcinoma                                                     32601\n",
      "malignant_melanoma                                            10151\n",
      "serrated_polyp                                                 2554\n",
      "lymphoid_neoplasm                                              1192\n",
      "benign_melanocytic_nevus                                        988\n",
      "glioma                                                          410\n",
      "other                                                           356\n",
      "low_malignant_potential_(borderline)_tumour                     230\n",
      "adenoma                                                         148\n",
      "craniopharyngioma                                               100\n",
      "adenoma-nodule-goitre                                            95\n",
      "aberrant_crypt_foci                                              52\n",
      "gastrointestinal_stromal_tumour                                  36\n",
      "adnexal_tumour                                                   23\n",
      "haematopoietic_neoplasm                                          12\n",
      "germ_cell_tumour                                                 11\n",
      "haemangioma                                                      11\n",
      "carcinoid-endocrine_tumour                                       10\n",
      "carcinoma_in_situ                                                 9\n",
      "atypical_teratoid-rhabdoid_tumour                                 6\n",
      "primitive_neuroectodermal_tumour-medulloblastoma                  5\n",
      "lentigo                                                           5\n",
      "desmoid_tumour-fibromatosis                                       5\n",
      "Ewings_sarcoma-peripheral_primitive_neuroectodermal_tumour        4\n",
      "malignant_peripheral_nerve_sheath_tumour                          4\n",
      "chronic_thyroiditis                                               4\n",
      "rhabdomyosarcoma                                                  3\n",
      "mesothelioma                                                      3\n",
      "myopericytoma                                                     3\n",
      "glomus_tumour                                                     3\n",
      "neuroblastoma                                                     3\n",
      "malignant_fibrous_histiocytoma-pleomorphic_sarcoma                2\n",
      "ameloblastic_fibroma                                              2\n",
      "adrenal_cortical_carcinoma                                        2\n",
      "thymic_carcinoma                                                  1\n",
      "synovial_sarcoma                                                  1\n",
      "leiomyosarcoma                                                    1\n",
      "malignant_melanoma_of_soft_parts-clear_cell_sarcoma               1\n",
      "pheochromocytoma                                                  1\n",
      "adrenal_cortical_adenoma                                          1\n",
      "meningioma                                                        1\n",
      "ameloblastic_fibrodentinoma                                       1\n",
      "liposarcoma                                                       1\n",
      "NS                                                                1\n",
      "giant_cell_tumour_of_tendon_sheath                                1\n",
      "Kaposi_sarcoma                                                    1\n",
      "dtype: int64\n"
     ]
    },
    {
     "data": {
      "image/png": "[encoded data removed]",
      "text/plain": [
       "<matplotlib.figure.Figure at 0x3b3b6a710>"
      ]
     },
     "metadata": {},
     "output_type": "display_data"
    }
   ],
   "source": [
    "# melanoma, adenocarcinoma\n",
    "find_frequencies('BRAF p.V600E')"
   ]
  },
  {
   "cell_type": "code",
   "execution_count": 20,
   "metadata": {},
   "outputs": [],
   "source": [
    "def general_query(query: str):\n",
    "    try:\n",
    "        gene_name, aa, cds, local_df, sequence = is_query_valid(query)\n",
    "        s = set(local_df.loc[sequence, 'HGNC ID'])\n",
    "        \n",
    "        if len(s) == 1:\n",
    "            hgnc_id = s.pop()\n",
    "            return hgnc_df[hgnc_df['HGNC ID'] == 'HGNC:863']\n",
    "        else: \n",
    "            return 'This sequence maps to too many different options'\n",
    "    except KeyError:\n",
    "        return 'This sequence was not found'\n",
    "    except ValueError:\n",
    "        return 'Please enter a valid query'\n",
    "    except AttributeError:\n",
    "        return"
   ]
  },
  {
   "cell_type": "code",
   "execution_count": 21,
   "metadata": {},
   "outputs": [
    {
     "data": {
      "text/html": [
       "<div>\n",
       "<style scoped>\n",
       "    .dataframe tbody tr th:only-of-type {\n",
       "        vertical-align: middle;\n",
       "    }\n",
       "\n",
       "    .dataframe tbody tr th {\n",
       "        vertical-align: top;\n",
       "    }\n",
       "\n",
       "    .dataframe thead th {\n",
       "        text-align: right;\n",
       "    }\n",
       "</style>\n",
       "<table border=\"1\" class=\"dataframe\">\n",
       "  <thead>\n",
       "    <tr style=\"text-align: right;\">\n",
       "      <th></th>\n",
       "      <th>HGNC ID</th>\n",
       "      <th>Approved Symbol</th>\n",
       "      <th>Approved Name</th>\n",
       "      <th>Status</th>\n",
       "      <th>Previous Symbols</th>\n",
       "      <th>Synonyms</th>\n",
       "      <th>Chromosome</th>\n",
       "      <th>Accession Numbers</th>\n",
       "      <th>RefSeq IDs</th>\n",
       "      <th>OMIM ID(supplied by OMIM)</th>\n",
       "      <th>Ensembl ID(supplied by Ensembl)</th>\n",
       "      <th>UCSC ID(supplied by UCSC)</th>\n",
       "    </tr>\n",
       "  </thead>\n",
       "  <tbody>\n",
       "    <tr>\n",
       "      <th>44315</th>\n",
       "      <td>HGNC:863</td>\n",
       "      <td>[ATP6V0E1]</td>\n",
       "      <td>[ATPase H+ transporting V0 subunit e1]</td>\n",
       "      <td>[Approved]</td>\n",
       "      <td>[ATP6H, ATP6V0E]</td>\n",
       "      <td>[M9.2]</td>\n",
       "      <td>[5q35.1]</td>\n",
       "      <td>[Y15286]</td>\n",
       "      <td>[NM_003945]</td>\n",
       "      <td>[603931]</td>\n",
       "      <td>[ENSG00000113732]</td>\n",
       "      <td>[uc003mcd.2]</td>\n",
       "    </tr>\n",
       "  </tbody>\n",
       "</table>\n",
       "</div>"
      ],
      "text/plain": [
       "        HGNC ID Approved Symbol                           Approved Name  \\\n",
       "44315  HGNC:863      [ATP6V0E1]  [ATPase H+ transporting V0 subunit e1]   \n",
       "\n",
       "           Status  Previous Symbols Synonyms Chromosome Accession Numbers  \\\n",
       "44315  [Approved]  [ATP6H, ATP6V0E]   [M9.2]   [5q35.1]          [Y15286]   \n",
       "\n",
       "        RefSeq IDs OMIM ID(supplied by OMIM) Ensembl ID(supplied by Ensembl)  \\\n",
       "44315  [NM_003945]                  [603931]               [ENSG00000113732]   \n",
       "\n",
       "      UCSC ID(supplied by UCSC)  \n",
       "44315              [uc003mcd.2]  "
      ]
     },
     "execution_count": 21,
     "metadata": {},
     "output_type": "execute_result"
    }
   ],
   "source": [
    "general_query('APC c.1859_1862delTTAC p.Y622fs*7')"
   ]
  },
  {
   "cell_type": "code",
   "execution_count": 22,
   "metadata": {},
   "outputs": [
    {
     "data": {
      "text/plain": [
       "'This sequence maps to too many different options'"
      ]
     },
     "execution_count": 22,
     "metadata": {},
     "output_type": "execute_result"
    }
   ],
   "source": [
    "general_query('BRAF c.1799T>A')"
   ]
  },
  {
   "cell_type": "code",
   "execution_count": 23,
   "metadata": {},
   "outputs": [
    {
     "data": {
      "text/html": [
       "<div>\n",
       "<style scoped>\n",
       "    .dataframe tbody tr th:only-of-type {\n",
       "        vertical-align: middle;\n",
       "    }\n",
       "\n",
       "    .dataframe tbody tr th {\n",
       "        vertical-align: top;\n",
       "    }\n",
       "\n",
       "    .dataframe thead th {\n",
       "        text-align: right;\n",
       "    }\n",
       "</style>\n",
       "<table border=\"1\" class=\"dataframe\">\n",
       "  <thead>\n",
       "    <tr style=\"text-align: right;\">\n",
       "      <th></th>\n",
       "      <th>HGNC ID</th>\n",
       "      <th>Approved Symbol</th>\n",
       "      <th>Approved Name</th>\n",
       "      <th>Status</th>\n",
       "      <th>Previous Symbols</th>\n",
       "      <th>Synonyms</th>\n",
       "      <th>Chromosome</th>\n",
       "      <th>Accession Numbers</th>\n",
       "      <th>RefSeq IDs</th>\n",
       "      <th>OMIM ID(supplied by OMIM)</th>\n",
       "      <th>Ensembl ID(supplied by Ensembl)</th>\n",
       "      <th>UCSC ID(supplied by UCSC)</th>\n",
       "    </tr>\n",
       "  </thead>\n",
       "  <tbody>\n",
       "    <tr>\n",
       "      <th>44315</th>\n",
       "      <td>HGNC:863</td>\n",
       "      <td>[ATP6V0E1]</td>\n",
       "      <td>[ATPase H+ transporting V0 subunit e1]</td>\n",
       "      <td>[Approved]</td>\n",
       "      <td>[ATP6H, ATP6V0E]</td>\n",
       "      <td>[M9.2]</td>\n",
       "      <td>[5q35.1]</td>\n",
       "      <td>[Y15286]</td>\n",
       "      <td>[NM_003945]</td>\n",
       "      <td>[603931]</td>\n",
       "      <td>[ENSG00000113732]</td>\n",
       "      <td>[uc003mcd.2]</td>\n",
       "    </tr>\n",
       "  </tbody>\n",
       "</table>\n",
       "</div>"
      ],
      "text/plain": [
       "        HGNC ID Approved Symbol                           Approved Name  \\\n",
       "44315  HGNC:863      [ATP6V0E1]  [ATPase H+ transporting V0 subunit e1]   \n",
       "\n",
       "           Status  Previous Symbols Synonyms Chromosome Accession Numbers  \\\n",
       "44315  [Approved]  [ATP6H, ATP6V0E]   [M9.2]   [5q35.1]          [Y15286]   \n",
       "\n",
       "        RefSeq IDs OMIM ID(supplied by OMIM) Ensembl ID(supplied by Ensembl)  \\\n",
       "44315  [NM_003945]                  [603931]               [ENSG00000113732]   \n",
       "\n",
       "      UCSC ID(supplied by UCSC)  \n",
       "44315              [uc003mcd.2]  "
      ]
     },
     "execution_count": 23,
     "metadata": {},
     "output_type": "execute_result"
    }
   ],
   "source": [
    "general_query('APC c.1859_1862delTTAC')"
   ]
  },
  {
   "cell_type": "code",
   "execution_count": 24,
   "metadata": {},
   "outputs": [
    {
     "name": "stdout",
     "output_type": "stream",
     "text": [
      "CDS sequence does not match\n"
     ]
    },
    {
     "data": {
      "text/plain": [
       "'This sequence was not found'"
      ]
     },
     "execution_count": 24,
     "metadata": {},
     "output_type": "execute_result"
    }
   ],
   "source": [
    "general_query('BRAF c.1859_XXXXXTTAC')"
   ]
  },
  {
   "cell_type": "code",
   "execution_count": 25,
   "metadata": {},
   "outputs": [
    {
     "name": "stdout",
     "output_type": "stream",
     "text": [
      "Please enter a valid gene name\n"
     ]
    }
   ],
   "source": [
    "general_query('c.?????')"
   ]
  },
  {
   "cell_type": "code",
   "execution_count": null,
   "metadata": {},
   "outputs": [],
   "source": []
  },
  {
   "cell_type": "code",
   "execution_count": null,
   "metadata": {},
   "outputs": [],
   "source": []
  }
 ],
 "metadata": {
  "kernelspec": {
   "display_name": "Python 3",
   "language": "python",
   "name": "python3"
  },
  "language_info": {
   "codemirror_mode": {
    "name": "ipython",
    "version": 3
   },
   "file_extension": ".py",
   "mimetype": "text/x-python",
   "name": "python",
   "nbconvert_exporter": "python",
   "pygments_lexer": "ipython3",
   "version": "3.6.4"
  }
 },
 "nbformat": 4,
 "nbformat_minor": 2
}
